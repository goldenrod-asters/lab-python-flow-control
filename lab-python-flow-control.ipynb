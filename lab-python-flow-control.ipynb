{
 "cells": [
  {
   "cell_type": "markdown",
   "id": "d3bfc191-8885-42ee-b0a0-bbab867c6f9f",
   "metadata": {
    "tags": []
   },
   "source": [
    "# Lab | Flow Control"
   ]
  },
  {
   "cell_type": "markdown",
   "id": "3851fcd1-cf98-4653-9c89-e003b7ec9400",
   "metadata": {},
   "source": [
    "## Exercise: Managing Customer Orders Optimized\n",
    "\n",
    "In the last lab, you were starting an online store that sells various products. To ensure smooth operations, you developed a program that manages customer orders and inventory.\n",
    "\n",
    "You did so without using flow control. Let's go a step further and improve this code.\n",
    "\n",
    "Follow the steps below to complete the exercise:\n",
    "\n",
    "1. Look at your code from the lab data structures, and improve repeated code with loops.\n",
    "\n",
    "2. Instead of asking the user to input the name of three products that a customer wants to order, do the following:\n",
    "    \n",
    "    a. Prompt the user to enter the name of a product that a customer wants to order.\n",
    "    \n",
    "    b. Add the product name to the \"customer_orders\" set.\n",
    "    \n",
    "    c. Ask the user if they want to add another product (yes/no).\n",
    "    \n",
    "    d. Continue the loop until the user does not want to add another product.\n",
    "\n",
    "3. Instead of updating the inventory by subtracting 1 from the quantity of each product, only do it for  the products that were ordered (those in \"customer_orders\")."
   ]
  },
  {
   "cell_type": "code",
   "execution_count": 1,
   "id": "0b0386a8",
   "metadata": {},
   "outputs": [
    {
     "name": "stdout",
     "output_type": "stream",
     "text": [
      "Enter the quantity available in inventory for t-shirt: 18\n",
      "Enter the quantity available in inventory for mug: 14\n",
      "Enter the quantity available in inventory for hat: 15\n",
      "Enter the quantity available in inventory for book: 12\n",
      "Enter the quantity available in inventory for keychain: 17\n"
     ]
    }
   ],
   "source": [
    "products = [\"t-shirt\", \"mug\", \"hat\", \"book\", \"keychain\"]\n",
    "inventory = {}\n",
    "\n",
    "for i in products:\n",
    "    inventory[i] = int(input(f\"Enter the quantity available in inventory for {i}: \"))"
   ]
  },
  {
   "cell_type": "code",
   "execution_count": 16,
   "id": "895ad225",
   "metadata": {},
   "outputs": [
    {
     "name": "stdout",
     "output_type": "stream",
     "text": [
      "You may order up to three products from our list of products: \n",
      "1. t-shirt\n",
      "2. mug\n",
      "3. hat\n",
      "4. book\n",
      "5. keychain\n"
     ]
    }
   ],
   "source": [
    "customer_orders = set()\n",
    "print(\"You may order up to three products from our list of products: \")\n",
    "x = 1\n",
    "for i in products:\n",
    "    print(f\"{x}. {i}\")\n",
    "    x += 1"
   ]
  },
  {
   "cell_type": "code",
   "execution_count": 19,
   "id": "713ee0cf",
   "metadata": {},
   "outputs": [
    {
     "name": "stdout",
     "output_type": "stream",
     "text": [
      "Current inventory: {'t-shirt': 13, 'mug': 10, 'hat': 12, 'book': 12, 'keychain': 17}\n",
      "Please enter the product number you would like to order: 1\n",
      "Would you like to place another order? Please enter 'yes' or 'no': yes\n",
      "Please enter the product number you would like to order: 2\n",
      "Would you like to place another order? Please enter 'yes' or 'no': yes\n",
      "Please enter the product number you would like to order: 3\n",
      "Would you like to place another order? Please enter 'yes' or 'no': no\n",
      "Customer order: {'t-shirt', 'mug', 'hat'}\n"
     ]
    }
   ],
   "source": [
    "print(f\"Current inventory: {inventory}\")\n",
    "\n",
    "while True: \n",
    "    userinput = int(input(f\"Please enter the product number you would like to order: \"))\n",
    "    while userinput not in range(1,6):\n",
    "        print(\"That product does not exist in our catalogue. Please enter a product number from 1 to 5.\")\n",
    "        userinput =  int(input(f\"Please enter the product number you would like to order: \"))\n",
    "    pindex = userinput - 1\n",
    "    customer_orders.add(products[pindex])\n",
    "\n",
    "    continueorder = input(\"Would you like to place another order? Please enter 'yes' or 'no': \").lower().strip()\n",
    "    if continueorder != \"yes\":\n",
    "        break\n",
    "    \n",
    "print(f\"Customer order: {customer_orders}\")"
   ]
  },
  {
   "cell_type": "code",
   "execution_count": 20,
   "id": "d83c17cb",
   "metadata": {},
   "outputs": [
    {
     "name": "stdout",
     "output_type": "stream",
     "text": [
      "Updated inventory: \n",
      "t-shirt: 12\n",
      "mug: 9\n",
      "hat: 11\n",
      "book: 12\n",
      "keychain: 17\n"
     ]
    }
   ],
   "source": [
    "for item in customer_orders:\n",
    "    if item in inventory: \n",
    "        inventory[item] -= 1   \n",
    "            \n",
    "print(\"Updated inventory: \")\n",
    "for product, quantity in inventory.items():\n",
    "    print(f\"{product}: {quantity}\")"
   ]
  },
  {
   "cell_type": "code",
   "execution_count": 21,
   "id": "3acb9b3e",
   "metadata": {},
   "outputs": [],
   "source": [
    "totalordered = len(customer_orders)\n",
    "percordered = totalordered / sum(inventory.values()) * 100\n",
    "order_status = (totalordered, percordered)"
   ]
  },
  {
   "cell_type": "code",
   "execution_count": 22,
   "id": "6423973a",
   "metadata": {},
   "outputs": [
    {
     "name": "stdout",
     "output_type": "stream",
     "text": [
      "Order Statistics: \n",
      "Total Products Ordered: 3\n",
      "Percentage of Products Ordered: 4.918032786885246%\n"
     ]
    }
   ],
   "source": [
    "print(f\"Order Statistics: \")\n",
    "print(f\"Total Products Ordered: {totalordered}\")\n",
    "print(f\"Percentage of Products Ordered: {percordered}%\")"
   ]
  },
  {
   "cell_type": "code",
   "execution_count": null,
   "id": "f665507c",
   "metadata": {},
   "outputs": [],
   "source": []
  }
 ],
 "metadata": {
  "kernelspec": {
   "display_name": "Python 3 (ipykernel)",
   "language": "python",
   "name": "python3"
  },
  "language_info": {
   "codemirror_mode": {
    "name": "ipython",
    "version": 3
   },
   "file_extension": ".py",
   "mimetype": "text/x-python",
   "name": "python",
   "nbconvert_exporter": "python",
   "pygments_lexer": "ipython3",
   "version": "3.11.5"
  }
 },
 "nbformat": 4,
 "nbformat_minor": 5
}
